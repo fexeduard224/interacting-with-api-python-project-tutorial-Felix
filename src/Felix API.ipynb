{
    "cells": [
        {
            "cell_type": "markdown",
            "metadata": {},
            "source": [
                "# Explore here"
            ]
        },
        {
            "cell_type": "code",
            "execution_count": 2,
            "metadata": {},
            "outputs": [],
            "source": [
                "import os\n",
                "import pandas as pd\n",
                "import seaborn as sns\n",
                "from dotenv import load_dotenv\n",
                "\n",
                "\n",
                "\n"
            ]
        },
        {
            "cell_type": "code",
            "execution_count": 3,
            "metadata": {},
            "outputs": [],
            "source": [
                "CLIENT_ID=\"fc159f12d28248dcac6ce3824bbef853\"\n",
                "CLIENT_SECRET=\"e105fb7513c94235a9486d99b2d50258\""
            ]
        },
        {
            "cell_type": "code",
            "execution_count": 4,
            "metadata": {},
            "outputs": [],
            "source": [
                "import spotipy\n",
                "from spotipy.oauth2 import SpotifyClientCredentials\n",
                "\n",
                "con = spotipy.Spotify(auth_manager = SpotifyClientCredentials(client_id = CLIENT_ID,\n",
                "                                                              client_secret = CLIENT_SECRET))"
            ]
        },
        {
            "cell_type": "code",
            "execution_count": 5,
            "metadata": {},
            "outputs": [],
            "source": [
                "artist_id = \"2ooIqOf4X2uz4mMptXCtie\"\n",
                "\n",
                "response = con.artist_top_tracks(\"2ooIqOf4X2uz4mMptXCtie\")\n",
                "if response:\n",
                "  \n",
                "  tracks = response[\"tracks\"]\n",
                "  \n",
                "  tracks = [{k: (v/(1000*60))%60 if k == \"duration_ms\" else v for k, v in track.items() if k in [\"name\", \"popularity\", \"duration_ms\"]} for track in tracks]\n"
            ]
        },
        {
            "cell_type": "code",
            "execution_count": 6,
            "metadata": {},
            "outputs": [
                {
                    "data": {
                        "text/html": [
                            "<div>\n",
                            "<style scoped>\n",
                            "    .dataframe tbody tr th:only-of-type {\n",
                            "        vertical-align: middle;\n",
                            "    }\n",
                            "\n",
                            "    .dataframe tbody tr th {\n",
                            "        vertical-align: top;\n",
                            "    }\n",
                            "\n",
                            "    .dataframe thead th {\n",
                            "        text-align: right;\n",
                            "    }\n",
                            "</style>\n",
                            "<table border=\"1\" class=\"dataframe\">\n",
                            "  <thead>\n",
                            "    <tr style=\"text-align: right;\">\n",
                            "      <th></th>\n",
                            "      <th>duration_ms</th>\n",
                            "      <th>name</th>\n",
                            "      <th>popularity</th>\n",
                            "    </tr>\n",
                            "  </thead>\n",
                            "  <tbody>\n",
                            "    <tr>\n",
                            "      <th>9</th>\n",
                            "      <td>4.881767</td>\n",
                            "      <td>Naomi</td>\n",
                            "      <td>35</td>\n",
                            "    </tr>\n",
                            "    <tr>\n",
                            "      <th>8</th>\n",
                            "      <td>4.142883</td>\n",
                            "      <td>Ghost</td>\n",
                            "      <td>46</td>\n",
                            "    </tr>\n",
                            "    <tr>\n",
                            "      <th>7</th>\n",
                            "      <td>8.302433</td>\n",
                            "      <td>Oh Comely</td>\n",
                            "      <td>48</td>\n",
                            "    </tr>\n",
                            "    <tr>\n",
                            "      <th>6</th>\n",
                            "      <td>3.104667</td>\n",
                            "      <td>King of Carrot Flowers Pts. 2 &amp; 3</td>\n",
                            "      <td>49</td>\n",
                            "    </tr>\n",
                            "    <tr>\n",
                            "      <th>5</th>\n",
                            "      <td>1.885767</td>\n",
                            "      <td>The Fool</td>\n",
                            "      <td>51</td>\n",
                            "    </tr>\n",
                            "  </tbody>\n",
                            "</table>\n",
                            "</div>"
                        ],
                        "text/plain": [
                            "   duration_ms                               name  popularity\n",
                            "9     4.881767                              Naomi          35\n",
                            "8     4.142883                              Ghost          46\n",
                            "7     8.302433                          Oh Comely          48\n",
                            "6     3.104667  King of Carrot Flowers Pts. 2 & 3          49\n",
                            "5     1.885767                           The Fool          51"
                        ]
                    },
                    "execution_count": 6,
                    "metadata": {},
                    "output_type": "execute_result"
                }
            ],
            "source": [
                "df = pd.DataFrame.from_records(tracks)\n",
                "df.sort_values([\"popularity\"], inplace = True)\n",
                "\n",
                "df.head()"
            ]
        },
        {
            "cell_type": "code",
            "execution_count": 7,
            "metadata": {},
            "outputs": [
                {
                    "data": {
                        "image/png": "[encoded data removed]",
                        "text/plain": [
                            "<Figure size 640x480 with 1 Axes>"
                        ]
                    },
                    "metadata": {},
                    "output_type": "display_data"
                }
            ],
            "source": [
                "scatter_plot = sns.scatterplot(data = df, x = \"popularity\", y = \"duration_ms\")\n",
                "fig = scatter_plot.get_figure()\n"
            ]
        }
    ],
    "metadata": {
        "kernelspec": {
            "display_name": "Python 3.8.13 64-bit ('3.8.13')",
            "language": "python",
            "name": "python3"
        },
        "language_info": {
            "codemirror_mode": {
                "name": "ipython",
                "version": 3
            },
            "file_extension": ".py",
            "mimetype": "text/x-python",
            "name": "python",
            "nbconvert_exporter": "python",
            "pygments_lexer": "ipython3",
            "version": "3.12.2"
        },
        "orig_nbformat": 4,
        "vscode": {
            "interpreter": {
                "hash": "110cc1dee26208153f2972f08a2ad52b6a56238dc66d48e87fb757ef2996db56"
            }
        }
    },
    "nbformat": 4,
    "nbformat_minor": 2
}
